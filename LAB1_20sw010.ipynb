{
  "nbformat": 4,
  "nbformat_minor": 0,
  "metadata": {
    "colab": {
      "provenance": [],
      "authorship_tag": "ABX9TyOpFXr4kq+nzkfcBPwYb+uM",
      "include_colab_link": true
    },
    "kernelspec": {
      "name": "python3",
      "display_name": "Python 3"
    },
    "language_info": {
      "name": "python"
    }
  },
  "cells": [
    {
      "cell_type": "markdown",
      "metadata": {
        "id": "view-in-github",
        "colab_type": "text"
      },
      "source": [
        "<a href=\"https://colab.research.google.com/github/bilalmemon124/Data-Science/blob/main/LAB1_20sw010.ipynb\" target=\"_parent\"><img src=\"https://colab.research.google.com/assets/colab-badge.svg\" alt=\"Open In Colab\"/></a>"
      ]
    },
    {
      "cell_type": "code",
      "execution_count": null,
      "metadata": {
        "id": "UQwCHNFqe9-E"
      },
      "outputs": [],
      "source": [
        "bilal=20\n",
        "adeel=22\n",
        "print(\"The age of adeel is {} while the age of bilal is {} in maths\".format(adeel,bilal))"
      ]
    },
    {
      "cell_type": "code",
      "source": [
        "sentence = \"hello, world!\"\n",
        "capitalized_sentence = sentence.capitalize()\n",
        "print(capitalized_sentence)\n",
        "\n",
        "text = \"HELLO, WoRLd!\"\n",
        "casefolded_text = text.casefold()\n",
        "print(casefolded_text)\n",
        "\n",
        "sentence = \"How much wood would a woodchuck chuck if a woodchuck could chuck wood?\"\n",
        "occurrences = sentence.count(\"wood\")\n",
        "print(occurrences)\n",
        "\n",
        "filename = \"example.txt\"\n",
        "print(filename.endswith(\".txt\"))\n",
        "print(filename.endswith(\".csv\"))\n",
        "\n",
        "sentence = \"The quick brown fox jumps over the lazy dog.\"\n",
        "index = sentence.find(\"fox\")\n",
        "print(index)\n",
        "\n"
      ],
      "metadata": {
        "colab": {
          "base_uri": "https://localhost:8080/"
        },
        "id": "clUzRQJyfRZK",
        "outputId": "879d0ec2-3755-43d8-99e1-2feb3c2e56de"
      },
      "execution_count": 9,
      "outputs": [
        {
          "output_type": "stream",
          "name": "stdout",
          "text": [
            "Hello, world!\n",
            "hello, world!\n",
            "4\n",
            "True\n",
            "False\n",
            "16\n"
          ]
        }
      ]
    },
    {
      "cell_type": "code",
      "source": [
        "month = 12\n",
        "days_in_month = [31,28,31,30,31,30,31,31,30,31,30,31]\n",
        "num_days = days_in_month[month-1]\n",
        "print(num_days)"
      ],
      "metadata": {
        "colab": {
          "base_uri": "https://localhost:8080/"
        },
        "id": "sdcT3t1pfReC",
        "outputId": "852aecfc-54d2-47a9-dc8f-e5b04be2c131"
      },
      "execution_count": 2,
      "outputs": [
        {
          "output_type": "stream",
          "name": "stdout",
          "text": [
            "31\n"
          ]
        }
      ]
    },
    {
      "cell_type": "code",
      "source": [
        "eclipse_dates = ['June 21, 2001', 'December 4, 2002', 'November 23, 2003',\n",
        "                 'March 29, 2006', 'August 1, 2008', 'July 22, 2009','July 11, 2010',\n",
        "                 'November 13, 2012', 'March 20, 2015','March 9, 2016']\n",
        "print(eclipse_dates[-3:])"
      ],
      "metadata": {
        "id": "JCJpVaOVfRmB"
      },
      "execution_count": null,
      "outputs": []
    },
    {
      "cell_type": "code",
      "source": [
        "students = {\"bilal\": {\"RollNo\": \"20sw010\",\"weight\": 47,\"GPA\": 2.7},\n",
        "            \"adeel\": {\"RollNo\": \"20sw018\",\"weight\": 80,\"GPA\": 2.9},\n",
        "            \"Mehran\":{\"RollNo\": \"20sw008\",\"weight\": 70,\"GPA\": 3.0}}\n",
        "\n",
        "print(students)\n"
      ],
      "metadata": {
        "colab": {
          "base_uri": "https://localhost:8080/"
        },
        "id": "mcXL7sMufRx6",
        "outputId": "f6012843-a242-4194-e88a-dd2d595dac5a"
      },
      "execution_count": 1,
      "outputs": [
        {
          "output_type": "stream",
          "name": "stdout",
          "text": [
            "{'bilal': {'RollNo': '20sw010', 'weight': 47, 'GPA': 2.7}, 'adeel': {'RollNo': '20sw018', 'weight': 80, 'GPA': 2.9}, 'Mehran': {'RollNo': '20sw008', 'weight': 70, 'GPA': 3.0}}\n"
          ]
        }
      ]
    }
  ]
}