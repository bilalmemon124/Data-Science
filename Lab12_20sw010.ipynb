{
  "nbformat": 4,
  "nbformat_minor": 0,
  "metadata": {
    "colab": {
      "provenance": [],
      "authorship_tag": "ABX9TyP4hbVoPGlMOzVmiQfIllMM",
      "include_colab_link": true
    },
    "kernelspec": {
      "name": "python3",
      "display_name": "Python 3"
    },
    "language_info": {
      "name": "python"
    }
  },
  "cells": [
    {
      "cell_type": "markdown",
      "metadata": {
        "id": "view-in-github",
        "colab_type": "text"
      },
      "source": [
        "<a href=\"https://colab.research.google.com/github/bilalmemon124/Data-Science/blob/main/Lab12_20sw010.ipynb\" target=\"_parent\"><img src=\"https://colab.research.google.com/assets/colab-badge.svg\" alt=\"Open In Colab\"/></a>"
      ]
    },
    {
      "cell_type": "code",
      "source": [
        "import requests\n",
        "\n",
        "# Fetch a web page\n",
        "r = requests.get(\"https://www.lipsum.com/\")\n",
        "print(r.text)"
      ],
      "metadata": {
        "colab": {
          "base_uri": "https://localhost:8080/"
        },
        "id": "f2wSP9Nwv33e",
        "outputId": "0f9ca1e8-cb2b-411f-f323-fd14a784792c"
      },
      "execution_count": 20,
      "outputs": [
        {
          "output_type": "stream",
          "name": "stdout",
          "text": [
            "<!DOCTYPE html>\r\n",
            "<html lang=\"en\">\r\n",
            "<head>\r\n",
            "<title>Lorem Ipsum - All the facts - Lipsum generator</title>\r\n",
            "<meta name=\"keywords\" content=\"Lorem Ipsum, Lipsum, Lorem, Ipsum, Text, Generate, Generator, Facts, Information, What, Why, Where, Dummy Text, Typesetting, Printing, de Finibus, Bonorum et Malorum, de Finibus Bonorum et Malorum, Extremes of Good and Evil, Cicero, Latin, Garbled, Scrambled, Lorem ipsum dolor sit amet, dolor, sit amet, consectetur, adipiscing, elit, sed, eiusmod, tempor, incididunt\" />\r\n",
            "<meta name=\"description\" content=\"Reference site about Lorem Ipsum, giving information on its origins, as well as a random Lipsum generator.\" />\r\n",
            "<meta name=\"viewport\" content=\"width=device-width,initial-scale=1.0\" />\r\n",
            "<meta http-equiv=\"content-type\" content=\"text/html; charset=utf-8\" />\r\n",
            "<!-- Google adsense -->\r\n",
            "<script async src=\"https://pagead2.googlesyndication.com/pagead/js/adsbygoogle.js?client=ca-pub-9385669889547030\" crossorigin=\"anonymous\"></script>\r\n",
            "<!-- Google tag (gtag.js) -->\r\n",
            "<script async src=\"https://www.googletagmanager.com/gtag/js?id=G-W02QY0T0GX\"></script>\r\n",
            "<script> window.dataLayer = window.dataLayer || []; function gtag(){dataLayer.push(arguments);} gtag('js', new Date()); gtag('config', 'G-W02QY0T0GX'); </script>\r\n",
            "<!-- PLACE THIS SECTION INSIDE OF YOUR HEAD TAGS -->\n",
            "<!-- Below is a recommended list of pre-connections, which allow the network to establish each connection quicker, speeding up response times and improving ad performance. -->\n",
            "<link rel=\"preconnect\" href=\"https://a.pub.network/\" crossorigin />\n",
            "<link rel=\"preconnect\" href=\"https://b.pub.network/\" crossorigin />\n",
            "<link rel=\"preconnect\" href=\"https://c.pub.network/\" crossorigin />\n",
            "<link rel=\"preconnect\" href=\"https://d.pub.network/\" crossorigin />\n",
            "<link rel=\"preconnect\" href=\"https://c.amazon-adsystem.com\" crossorigin />\n",
            "<link rel=\"preconnect\" href=\"https://s.amazon-adsystem.com\" crossorigin />\n",
            "<link rel=\"preconnect\" href=\"https://secure.quantserve.com/\" crossorigin />\n",
            "<link rel=\"preconnect\" href=\"https://rules.quantcount.com/\" crossorigin />\n",
            "<link rel=\"preconnect\" href=\"https://pixel.quantserve.com/\" crossorigin />\n",
            "<link rel=\"preconnect\" href=\"https://cmp.quantcast.com/\" crossorigin />\n",
            "<link rel=\"preconnect\" href=\"https://btloader.com/\" crossorigin />\n",
            "<link rel=\"preconnect\" href=\"https://api.btloader.com/\" crossorigin />\n",
            "<link rel=\"preconnect\" href=\"https://confiant-integrations.global.ssl.fastly.net\" crossorigin />\n",
            "<!-- Below is a link to a CSS file that accounts for Cumulative Layout Shift, a new Core Web Vitals subset that Google uses to help rank your site in search -->\n",
            "<!-- The file is intended to eliminate the layout shifts that are seen when ads load into the page. If you don't want to use this, simply remove this file -->\n",
            "<!-- To find out more about CLS, visit https://web.dev/vitals/ -->\n",
            "<link rel=\"stylesheet\" href=\"https://a.pub.network/lipsum-com/cls.css\">\n",
            "<script data-cfasync=\"false\" type=\"text/javascript\">\n",
            "  var freestar = freestar || {};\n",
            "  freestar.queue = freestar.queue || [];\n",
            "  freestar.config = freestar.config || {};\n",
            "  freestar.config.enabled_slots = [];\n",
            "  freestar.initCallback = function () { (freestar.config.enabled_slots.length === 0) ? freestar.initCallbackCalled = false : freestar.newAdSlots(freestar.config.enabled_slots) }\n",
            "</script>\n",
            "<script src=\"https://a.pub.network/lipsum-com/pubfig.min.js\" data-cfasync=\"false\" async></script>\r\n",
            "    <link rel=\"icon\" type=\"image/x-icon\" href=\"/favicon.ico\" />\r\n",
            "    <link rel=\"stylesheet\" type=\"text/css\" href=\"/css/230223.css\" />\r\n",
            "</head>\r\n",
            "<body>\r\n",
            "<div id=\"Outer\">\r\n",
            "\r\n",
            "<div class=\"banner\" style=\"min-height:90px\"><!-- Tag ID: lipsumcom_header -->\n",
            "<div align=\"center\" data-freestar-ad=\"__336x280 __970x250\" id=\"lipsumcom_header\">\n",
            "  <script data-cfasync=\"false\" type=\"text/javascript\">\n",
            "    freestar.config.enabled_slots.push({ placementName: \"lipsumcom_header\", slotId: \"lipsumcom_header\" });\n",
            "  </script>\n",
            "</div></div>\r\n",
            "\r\n",
            "<div id=\"Inner\">\r\n",
            "\r\n",
            "<div id=\"Languages\"><a href=\"http://hy.lipsum.com/\">&#1344;&#1377;&#1397;&#1381;&#1408;&#1381;&#1398;</a> <a href=\"http://sq.lipsum.com/\">Shqip</a> <span class=\"ltr\" dir=\"ltr\"><a href=\"http://ar.lipsum.com/\">&#8235;&#1575;&#1604;&#1593;&#1585;&#1576;&#1610;&#1577;</a></span> <a href=\"http://bg.lipsum.com/\">&#1041;&#1098;&#1083;&#1075;&#1072;&#1088;&#1089;&#1082;&#1080;</a> <a href=\"http://ca.lipsum.com/\">Catal&agrave;</a> <a href=\"http://cn.lipsum.com/\">&#20013;&#25991;&#31616;&#20307;</a> <a href=\"http://hr.lipsum.com/\">Hrvatski</a> <a href=\"http://cs.lipsum.com/\">&#268;esky</a> <a href=\"http://da.lipsum.com/\">Dansk</a> <a href=\"http://nl.lipsum.com/\">Nederlands</a> <a class=\"zz\" href=\"http://www.lipsum.com/\">English</a> <a href=\"http://et.lipsum.com/\">Eesti</a> <a href=\"http://ph.lipsum.com/\">Filipino</a> <a href=\"http://fi.lipsum.com/\">Suomi</a> <a href=\"http://fr.lipsum.com/\">Fran&ccedil;ais</a> <a href=\"http://ka.lipsum.com/\">&#4325;&#4304;&#4320;&#4311;&#4323;&#4314;&#4312;</a> <a href=\"http://de.lipsum.com/\">Deutsch</a> <a href=\"http://el.lipsum.com/\">&#917;&#955;&#955;&#951;&#957;&#953;&#954;&#940;</a> <span class=\"ltr\" dir=\"ltr\"><a href=\"http://he.lipsum.com/\">&#8235;&#1506;&#1489;&#1512;&#1497;&#1514;</a></span> <a href=\"http://hi.lipsum.com/\">&#2361;&#2367;&#2344;&#2381;&#2342;&#2368;</a> <a href=\"http://hu.lipsum.com/\">Magyar</a> <a href=\"http://id.lipsum.com/\">Indonesia</a> <a href=\"http://it.lipsum.com/\">Italiano</a> <a href=\"http://lv.lipsum.com/\">Latviski</a> <a href=\"http://lt.lipsum.com/\">Lietuvi&scaron;kai</a> <a href=\"http://mk.lipsum.com/\">&#1084;&#1072;&#1082;&#1077;&#1076;&#1086;&#1085;&#1089;&#1082;&#1080;</a> <a href=\"http://ms.lipsum.com/\">Melayu</a> <a href=\"http://no.lipsum.com/\">Norsk</a> <a href=\"http://pl.lipsum.com/\">Polski</a> <a href=\"http://pt.lipsum.com/\">Portugu&ecirc;s</a> <a href=\"http://ro.lipsum.com/\">Rom&acirc;na</a> <a href=\"http://ru.lipsum.com/\">Pycc&#1082;&#1080;&#1081;</a> <a href=\"http://sr.lipsum.com/\">&#1057;&#1088;&#1087;&#1089;&#1082;&#1080;</a> <a href=\"http://sk.lipsum.com/\">Sloven&#269;ina</a> <a href=\"http://sl.lipsum.com/\">Sloven&#353;&#269;ina</a> <a href=\"http://es.lipsum.com/\">Espa&ntilde;ol</a> <a href=\"http://sv.lipsum.com/\">Svenska</a> <a href=\"http://th.lipsum.com/\">&#3652;&#3607;&#3618;</a> <a href=\"http://tr.lipsum.com/\">T&uuml;rk&ccedil;e</a> <a href=\"http://uk.lipsum.com/\">&#1059;&#1082;&#1088;&#1072;&#1111;&#1085;&#1089;&#1100;&#1082;&#1072;</a> <a href=\"http://vi.lipsum.com/\">Ti&#7871;ng Vi&#7879;t</a> </div>\r\n",
            "\r\n",
            "<h1>Lorem Ipsum</h1>\n",
            "<h4>\"Neque porro quisquam est qui dolorem ipsum quia dolor sit amet, consectetur, adipisci velit...\"</h4>\n",
            "<h5>\"There is no one who loves pain itself, who seeks after it and wants to have it, simply because it is pain...\"</h5>\n",
            "\r\n",
            "\r\n",
            "<hr />\r\n",
            "\r\n",
            "<div id=\"Content\">\r\n",
            "<div id=\"bannerL\"><!-- Tag ID: lipsumcom_left_siderail -->\n",
            "<div align=\"center\" data-freestar-ad=\"__300x600\" id=\"lipsumcom_left_siderail\">\n",
            "  <script data-cfasync=\"false\" type=\"text/javascript\">\n",
            "    freestar.config.enabled_slots.push({ placementName: \"lipsumcom_left_siderail\", slotId: \"lipsumcom_left_siderail\" });\n",
            "  </script>\n",
            "</div></div>\r\n",
            "<div id=\"bannerR\"><!-- Tag ID: lipsumcom_right_siderail -->\n",
            "<div align=\"center\" data-freestar-ad=\"__300x600\" id=\"lipsumcom_right_siderail\">\n",
            "  <script data-cfasync=\"false\" type=\"text/javascript\">\n",
            "    freestar.config.enabled_slots.push({ placementName: \"lipsumcom_right_siderail\", slotId: \"lipsumcom_right_siderail\" });\n",
            "  </script>\n",
            "</div></div>\r\n",
            "<div id=\"Panes\"><div>\n",
            "<h2>What is Lorem Ipsum?</h2>\n",
            "<p><strong>Lorem Ipsum</strong> is simply dummy text of the printing and typesetting industry. Lorem Ipsum has been the industry's standard dummy text ever since the 1500s, when an unknown printer took a galley of type and scrambled it to make a type specimen book. It has survived not only five centuries, but also the leap into electronic typesetting, remaining essentially unchanged. It was popularised in the 1960s with the release of Letraset sheets containing Lorem Ipsum passages, and more recently with desktop publishing software like Aldus PageMaker including versions of Lorem Ipsum.</p>\n",
            "</div><div>\n",
            "<h2>Why do we use it?</h2>\n",
            "<p>It is a long established fact that a reader will be distracted by the readable content of a page when looking at its layout. The point of using Lorem Ipsum is that it has a more-or-less normal distribution of letters, as opposed to using 'Content here, content here', making it look like readable English. Many desktop publishing packages and web page editors now use Lorem Ipsum as their default model text, and a search for 'lorem ipsum' will uncover many web sites still in their infancy. Various versions have evolved over the years, sometimes by accident, sometimes on purpose (injected humour and the like).</p>\n",
            "</div><br /><div>\n",
            "<h2>Where does it come from?</h2>\n",
            "<p>Contrary to popular belief, Lorem Ipsum is not simply random text. It has roots in a piece of classical Latin literature from 45 BC, making it over 2000 years old. Richard McClintock, a Latin professor at Hampden-Sydney College in Virginia, looked up one of the more obscure Latin words, consectetur, from a Lorem Ipsum passage, and going through the cites of the word in classical literature, discovered the undoubtable source. Lorem Ipsum comes from sections 1.10.32 and 1.10.33 of \"de Finibus Bonorum et Malorum\" (The Extremes of Good and Evil) by Cicero, written in 45 BC. This book is a treatise on the theory of ethics, very popular during the Renaissance. The first line of Lorem Ipsum, \"Lorem ipsum dolor sit amet..\", comes from a line in section 1.10.32.</p><p>The standard chunk of Lorem Ipsum used since the 1500s is reproduced below for those interested. Sections 1.10.32 and 1.10.33 from \"de Finibus Bonorum et Malorum\" by Cicero are also reproduced in their exact original form, accompanied by English versions from the 1914 translation by H. Rackham.</p>\n",
            "</div><div>\n",
            "<h2>Where can I get some?</h2>\n",
            "<p>There are many variations of passages of Lorem Ipsum available, but the majority have suffered alteration in some form, by injected humour, or randomised words which don't look even slightly believable. If you are going to use a passage of Lorem Ipsum, you need to be sure there isn't anything embarrassing hidden in the middle of text. All the Lorem Ipsum generators on the Internet tend to repeat predefined chunks as necessary, making this the first true generator on the Internet. It uses a dictionary of over 200 Latin words, combined with a handful of model sentence structures, to generate Lorem Ipsum which looks reasonable. The generated Lorem Ipsum is therefore always free from repetition, injected humour, or non-characteristic words etc.</p>\n",
            "<form method=\"post\" action=\"/feed/html\"><table style=\"width:100%\"><tr><td rowspan=\"2\"><input type=\"text\" name=\"amount\" value=\"5\" size=\"3\" id=\"amount\" /></td><td rowspan=\"2\"><table style=\"text-align:left\"><tr><td style=\"width:20px\"><input type=\"radio\" name=\"what\" value=\"paras\" id=\"paras\" checked=\"checked\" /></td><td><label for=\"paras\">paragraphs</label></td></tr><tr><td style=\"width:20px\"><input type=\"radio\" name=\"what\" value=\"words\" id=\"words\" /></td><td><label for=\"words\">words</label></td></tr><tr><td style=\"width:20px\"><input type=\"radio\" name=\"what\" value=\"bytes\" id=\"bytes\" /></td><td><label for=\"bytes\">bytes</label></td></tr><tr><td style=\"width:20px\"><input type=\"radio\" name=\"what\" value=\"lists\" id=\"lists\" /></td><td><label for=\"lists\">lists</label></td></tr></table></td><td style=\"width:20px\"><input type=\"checkbox\" name=\"start\" id=\"start\" value=\"yes\" checked=\"checked\" /></td><td style=\"text-align:left\"><label for=\"start\">Start with 'Lorem<br />ipsum dolor sit amet...'</label></td></tr><tr><td></td><td style=\"text-align:left\"><input type=\"submit\" name=\"generate\" id=\"generate\" value=\"Generate Lorem Ipsum\" /></td></tr></table></form></div><br /></div>\n",
            "<hr /><div class=\"boxed\"><strong>Translations:</strong> Can you help translate this site into a foreign language ? Please email us with details if you can help.</div>\n",
            "\n",
            "<hr /><div class=\"boxed\">There is a set of mock banners available <a href=\"/banners\" class=\"lnk\">here</a> in three colours and in a range of standard banner sizes:<br /><a href=\"/banners\"><img src=\"/images/banners/black_234x60.gif\" width=\"234\" height=\"60\" alt=\"Banners\" /></a><a href=\"/banners\"><img src=\"/images/banners/grey_234x60.gif\" width=\"234\" height=\"60\" alt=\"Banners\" /></a><a href=\"/banners\"><img src=\"/images/banners/white_234x60.gif\" width=\"234\" height=\"60\" alt=\"Banners\" /></a></div>\n",
            "\n",
            "<hr /><div class=\"boxed\"><strong>Donate:</strong> If you use this site regularly and would like to help keep the site on the Internet, please consider donating a small sum to help pay for the hosting and bandwidth bill. There is no minimum donation, any sum is appreciated - click <a target=\"_blank\" href=\"/donate\" class=\"lnk\">here</a> to donate using PayPal. Thank you for your support.</div>\n",
            "<div class=\"boxed\"><strong>Donate Bitcoin:</strong> 16UQLq1HZ3CNwhvgrarV6pMoA2CDjb4tyF</div>\n",
            "\n",
            "<hr /><div class=\"boxed\" id=\"Packages\">\n",
            "<a target=\"_blank\" rel=\"noopener\" rel=\"nofollow\" href=\"https://github.com/traviskaufman/node-lipsum\">NodeJS</a>\n",
            "<a target=\"_blank\" rel=\"noopener\" rel=\"nofollow\" href=\"http://code.google.com/p/pypsum/\">Python Interface</a>\n",
            "<a target=\"_blank\" rel=\"noopener\" rel=\"nofollow\" href=\"http://gtklipsum.sourceforge.net/\">GTK Lipsum</a>\n",
            "<a target=\"_blank\" rel=\"noopener\" rel=\"nofollow\" href=\"http://github.com/gsavage/lorem_ipsum/tree/master\">Rails</a>\n",
            "<a target=\"_blank\" rel=\"noopener\" rel=\"nofollow\" href=\"https://github.com/cerkit/LoremIpsum/\">.NET</a>\n",
            "<a target=\"_blank\" rel=\"noopener\" rel=\"nofollow\" href=\"http://groovyconsole.appspot.com/script/64002\">Groovy</a>\n",
            "</div>\n",
            "\n",
            "<hr /><div style=\"margin:10px 0\"><!-- Tag ID: lipsumcom_incontent -->\n",
            "<div align=\"center\" data-freestar-ad=\"__336x280 __728x90\" id=\"lipsumcom_incontent\">\n",
            "  <script data-cfasync=\"false\" type=\"text/javascript\">\n",
            "    freestar.config.enabled_slots.push({ placementName: \"lipsumcom_incontent\", slotId: \"lipsumcom_incontent\" });\n",
            "  </script>\n",
            "</div></div>\n",
            "<hr /><div id=\"Translation\">\n",
            "\n",
            "<h3>The standard Lorem Ipsum passage, used since the 1500s</h3><p>\"Lorem ipsum dolor sit amet, consectetur adipiscing elit, sed do eiusmod tempor incididunt ut labore et dolore magna aliqua. Ut enim ad minim veniam, quis nostrud exercitation ullamco laboris nisi ut aliquip ex ea commodo consequat. Duis aute irure dolor in reprehenderit in voluptate velit esse cillum dolore eu fugiat nulla pariatur. Excepteur sint occaecat cupidatat non proident, sunt in culpa qui officia deserunt mollit anim id est laborum.\"</p><h3>Section 1.10.32 of \"de Finibus Bonorum et Malorum\", written by Cicero in 45 BC</h3><p>\"Sed ut perspiciatis unde omnis iste natus error sit voluptatem accusantium doloremque laudantium, totam rem aperiam, eaque ipsa quae ab illo inventore veritatis et quasi architecto beatae vitae dicta sunt explicabo. Nemo enim ipsam voluptatem quia voluptas sit aspernatur aut odit aut fugit, sed quia consequuntur magni dolores eos qui ratione voluptatem sequi nesciunt. Neque porro quisquam est, qui dolorem ipsum quia dolor sit amet, consectetur, adipisci velit, sed quia non numquam eius modi tempora incidunt ut labore et dolore magnam aliquam quaerat voluptatem. Ut enim ad minima veniam, quis nostrum exercitationem ullam corporis suscipit laboriosam, nisi ut aliquid ex ea commodi consequatur? Quis autem vel eum iure reprehenderit qui in ea voluptate velit esse quam nihil molestiae consequatur, vel illum qui dolorem eum fugiat quo voluptas nulla pariatur?\"</p>\n",
            "<h3>1914 translation by H. Rackham</h3>\n",
            "<p>\"But I must explain to you how all this mistaken idea of denouncing pleasure and praising pain was born and I will give you a complete account of the system, and expound the actual teachings of the great explorer of the truth, the master-builder of human happiness. No one rejects, dislikes, or avoids pleasure itself, because it is pleasure, but because those who do not know how to pursue pleasure rationally encounter consequences that are extremely painful. Nor again is there anyone who loves or pursues or desires to obtain pain of itself, because it is pain, but because occasionally circumstances occur in which toil and pain can procure him some great pleasure. To take a trivial example, which of us ever undertakes laborious physical exercise, except to obtain some advantage from it? But who has any right to find fault with a man who chooses to enjoy a pleasure that has no annoying consequences, or one who avoids a pain that produces no resultant pleasure?\"</p>\n",
            "<h3>Section 1.10.33 of \"de Finibus Bonorum et Malorum\", written by Cicero in 45 BC</h3>\n",
            "<p>\"At vero eos et accusamus et iusto odio dignissimos ducimus qui blanditiis praesentium voluptatum deleniti atque corrupti quos dolores et quas molestias excepturi sint occaecati cupiditate non provident, similique sunt in culpa qui officia deserunt mollitia animi, id est laborum et dolorum fuga. Et harum quidem rerum facilis est et expedita distinctio. Nam libero tempore, cum soluta nobis est eligendi optio cumque nihil impedit quo minus id quod maxime placeat facere possimus, omnis voluptas assumenda est, omnis dolor repellendus. Temporibus autem quibusdam et aut officiis debitis aut rerum necessitatibus saepe eveniet ut et voluptates repudiandae sint et molestiae non recusandae. Itaque earum rerum hic tenetur a sapiente delectus, ut aut reiciendis voluptatibus maiores alias consequatur aut perferendis doloribus asperiores repellat.\"</p>\n",
            "<h3>1914 translation by H. Rackham</h3>\n",
            "<p>\"On the other hand, we denounce with righteous indignation and dislike men who are so beguiled and demoralized by the charms of pleasure of the moment, so blinded by desire, that they cannot foresee the pain and trouble that are bound to ensue; and equal blame belongs to those who fail in their duty through weakness of will, which is the same as saying through shrinking from toil and pain. These cases are perfectly simple and easy to distinguish. In a free hour, when our power of choice is untrammelled and when nothing prevents our being able to do what we like best, every pleasure is to be welcomed and every pain avoided. But in certain circumstances and owing to the claims of duty or the obligations of business it will frequently occur that pleasures have to be repudiated and annoyances accepted. The wise man therefore always holds in these matters to this principle of selection: he rejects pleasures to secure other greater pleasures, or else he endures pains to avoid worse pains.\"</p>\n",
            "</div>\n",
            "\r\n",
            "</div>\r\n",
            "\r\n",
            "<hr />\r\n",
            "\r\n",
            "<div class=\"boxed\"><a style=\"text-decoration:none\" href=\"mailto:hel&#x70;&#64;lipsu&#109;&#x2e;com\">&#x68;e&#108;p&#x40;lipsum&#x2e;com</a><br /><a style=\"text-decoration:none\" rel=\"nofollow\" href=\"/privacy\" />Privacy Policy</a>\r\n",
            "&middot;\r\n",
            "<a style=\"cursor:pointer\" class=\"change-consent\" onclick=\"window.__uspapi('displayUspUi');\">Do Not Sell My Personal Information</a>\r\n",
            "&middot;\r\n",
            "<a style=\"cursor:pointer\" class=\"change-consent\" onclick=\"window.__tcfapi('displayConsentUi', 2, function() {} );\">Change Consent</a>\r\n",
            "</div>\r\n",
            "\r\n",
            "\r\n",
            "\r\n",
            "</div>\r\n",
            "\r\n",
            "<div class=\"banner\" style=\"margin-bottom:110px\"><!-- Tag ID: lipsumcom_leaderboard_bottom -->\n",
            "<div align=\"center\" data-freestar-ad=\"__336x280 __970x250\" id=\"lipsumcom_leaderboard_bottom\">\n",
            "  <script data-cfasync=\"false\" type=\"text/javascript\">\n",
            "    freestar.config.enabled_slots.push({ placementName: \"lipsumcom_leaderboard_bottom\", slotId: \"lipsumcom_leaderboard_bottom\" });\n",
            "  </script>\n",
            "</div></div>\r\n",
            "\r\n",
            "</div>\r\n",
            "\r\n",
            "<!-- Generated in 0.006 seconds -->\n",
            "</body></html>\r\n",
            "\n"
          ]
        }
      ]
    },
    {
      "cell_type": "code",
      "source": [
        "\n",
        "from bs4 import BeautifulSoup"
      ],
      "metadata": {
        "id": "hMlKBrXov35u"
      },
      "execution_count": 21,
      "outputs": []
    },
    {
      "cell_type": "code",
      "source": [
        "# Remove HTML tags using Beautiful Soup library\n",
        "soup = BeautifulSoup(r.text, \"html5lib\")\n",
        "print(soup.get_text())"
      ],
      "metadata": {
        "colab": {
          "base_uri": "https://localhost:8080/"
        },
        "id": "dCuPS8Clv38D",
        "outputId": "60c638b8-0e53-4f4d-d6fc-c4351b8db8e3"
      },
      "execution_count": 22,
      "outputs": [
        {
          "output_type": "stream",
          "name": "stdout",
          "text": [
            "\n",
            "Lorem Ipsum - All the facts - Lipsum generator\n",
            "\n",
            "\n",
            "\n",
            "\n",
            "\n",
            "\n",
            "\n",
            "\n",
            " window.dataLayer = window.dataLayer || []; function gtag(){dataLayer.push(arguments);} gtag('js', new Date()); gtag('config', 'G-W02QY0T0GX'); \n",
            "\n",
            "\n",
            "\n",
            "\n",
            "\n",
            "\n",
            "\n",
            "\n",
            "\n",
            "\n",
            "\n",
            "\n",
            "\n",
            "\n",
            "\n",
            "\n",
            "\n",
            "\n",
            "\n",
            "\n",
            "  var freestar = freestar || {};\n",
            "  freestar.queue = freestar.queue || [];\n",
            "  freestar.config = freestar.config || {};\n",
            "  freestar.config.enabled_slots = [];\n",
            "  freestar.initCallback = function () { (freestar.config.enabled_slots.length === 0) ? freestar.initCallbackCalled = false : freestar.newAdSlots(freestar.config.enabled_slots) }\n",
            "\n",
            "\n",
            "    \n",
            "    \n",
            "\n",
            "\n",
            "\n",
            "\n",
            "\n",
            "\n",
            "  \n",
            "    freestar.config.enabled_slots.push({ placementName: \"lipsumcom_header\", slotId: \"lipsumcom_header\" });\n",
            "  \n",
            "\n",
            "\n",
            "\n",
            "\n",
            "Հայերեն Shqip ‫العربية Български Català 中文简体 Hrvatski Česky Dansk Nederlands English Eesti Filipino Suomi Français ქართული Deutsch Ελληνικά ‫עברית हिन्दी Magyar Indonesia Italiano Latviski Lietuviškai македонски Melayu Norsk Polski Português Româna Pyccкий Српски Slovenčina Slovenščina Español Svenska ไทย Türkçe Українська Tiếng Việt \n",
            "\n",
            "Lorem Ipsum\n",
            "\"Neque porro quisquam est qui dolorem ipsum quia dolor sit amet, consectetur, adipisci velit...\"\n",
            "\"There is no one who loves pain itself, who seeks after it and wants to have it, simply because it is pain...\"\n",
            "\n",
            "\n",
            "\n",
            "\n",
            "\n",
            "\n",
            "\n",
            "  \n",
            "    freestar.config.enabled_slots.push({ placementName: \"lipsumcom_left_siderail\", slotId: \"lipsumcom_left_siderail\" });\n",
            "  \n",
            "\n",
            "\n",
            "\n",
            "  \n",
            "    freestar.config.enabled_slots.push({ placementName: \"lipsumcom_right_siderail\", slotId: \"lipsumcom_right_siderail\" });\n",
            "  \n",
            "\n",
            "\n",
            "What is Lorem Ipsum?\n",
            "Lorem Ipsum is simply dummy text of the printing and typesetting industry. Lorem Ipsum has been the industry's standard dummy text ever since the 1500s, when an unknown printer took a galley of type and scrambled it to make a type specimen book. It has survived not only five centuries, but also the leap into electronic typesetting, remaining essentially unchanged. It was popularised in the 1960s with the release of Letraset sheets containing Lorem Ipsum passages, and more recently with desktop publishing software like Aldus PageMaker including versions of Lorem Ipsum.\n",
            "\n",
            "Why do we use it?\n",
            "It is a long established fact that a reader will be distracted by the readable content of a page when looking at its layout. The point of using Lorem Ipsum is that it has a more-or-less normal distribution of letters, as opposed to using 'Content here, content here', making it look like readable English. Many desktop publishing packages and web page editors now use Lorem Ipsum as their default model text, and a search for 'lorem ipsum' will uncover many web sites still in their infancy. Various versions have evolved over the years, sometimes by accident, sometimes on purpose (injected humour and the like).\n",
            "\n",
            "Where does it come from?\n",
            "Contrary to popular belief, Lorem Ipsum is not simply random text. It has roots in a piece of classical Latin literature from 45 BC, making it over 2000 years old. Richard McClintock, a Latin professor at Hampden-Sydney College in Virginia, looked up one of the more obscure Latin words, consectetur, from a Lorem Ipsum passage, and going through the cites of the word in classical literature, discovered the undoubtable source. Lorem Ipsum comes from sections 1.10.32 and 1.10.33 of \"de Finibus Bonorum et Malorum\" (The Extremes of Good and Evil) by Cicero, written in 45 BC. This book is a treatise on the theory of ethics, very popular during the Renaissance. The first line of Lorem Ipsum, \"Lorem ipsum dolor sit amet..\", comes from a line in section 1.10.32.The standard chunk of Lorem Ipsum used since the 1500s is reproduced below for those interested. Sections 1.10.32 and 1.10.33 from \"de Finibus Bonorum et Malorum\" by Cicero are also reproduced in their exact original form, accompanied by English versions from the 1914 translation by H. Rackham.\n",
            "\n",
            "Where can I get some?\n",
            "There are many variations of passages of Lorem Ipsum available, but the majority have suffered alteration in some form, by injected humour, or randomised words which don't look even slightly believable. If you are going to use a passage of Lorem Ipsum, you need to be sure there isn't anything embarrassing hidden in the middle of text. All the Lorem Ipsum generators on the Internet tend to repeat predefined chunks as necessary, making this the first true generator on the Internet. It uses a dictionary of over 200 Latin words, combined with a handful of model sentence structures, to generate Lorem Ipsum which looks reasonable. The generated Lorem Ipsum is therefore always free from repetition, injected humour, or non-characteristic words etc.\n",
            "paragraphswordsbyteslistsStart with 'Loremipsum dolor sit amet...'\n",
            "Translations: Can you help translate this site into a foreign language ? Please email us with details if you can help.\n",
            "\n",
            "There is a set of mock banners available here in three colours and in a range of standard banner sizes:\n",
            "\n",
            "Donate: If you use this site regularly and would like to help keep the site on the Internet, please consider donating a small sum to help pay for the hosting and bandwidth bill. There is no minimum donation, any sum is appreciated - click here to donate using PayPal. Thank you for your support.\n",
            "Donate Bitcoin: 16UQLq1HZ3CNwhvgrarV6pMoA2CDjb4tyF\n",
            "\n",
            "\n",
            "NodeJS\n",
            "Python Interface\n",
            "GTK Lipsum\n",
            "Rails\n",
            ".NET\n",
            "Groovy\n",
            "\n",
            "\n",
            "\n",
            "\n",
            "  \n",
            "    freestar.config.enabled_slots.push({ placementName: \"lipsumcom_incontent\", slotId: \"lipsumcom_incontent\" });\n",
            "  \n",
            "\n",
            "\n",
            "\n",
            "The standard Lorem Ipsum passage, used since the 1500s\"Lorem ipsum dolor sit amet, consectetur adipiscing elit, sed do eiusmod tempor incididunt ut labore et dolore magna aliqua. Ut enim ad minim veniam, quis nostrud exercitation ullamco laboris nisi ut aliquip ex ea commodo consequat. Duis aute irure dolor in reprehenderit in voluptate velit esse cillum dolore eu fugiat nulla pariatur. Excepteur sint occaecat cupidatat non proident, sunt in culpa qui officia deserunt mollit anim id est laborum.\"Section 1.10.32 of \"de Finibus Bonorum et Malorum\", written by Cicero in 45 BC\"Sed ut perspiciatis unde omnis iste natus error sit voluptatem accusantium doloremque laudantium, totam rem aperiam, eaque ipsa quae ab illo inventore veritatis et quasi architecto beatae vitae dicta sunt explicabo. Nemo enim ipsam voluptatem quia voluptas sit aspernatur aut odit aut fugit, sed quia consequuntur magni dolores eos qui ratione voluptatem sequi nesciunt. Neque porro quisquam est, qui dolorem ipsum quia dolor sit amet, consectetur, adipisci velit, sed quia non numquam eius modi tempora incidunt ut labore et dolore magnam aliquam quaerat voluptatem. Ut enim ad minima veniam, quis nostrum exercitationem ullam corporis suscipit laboriosam, nisi ut aliquid ex ea commodi consequatur? Quis autem vel eum iure reprehenderit qui in ea voluptate velit esse quam nihil molestiae consequatur, vel illum qui dolorem eum fugiat quo voluptas nulla pariatur?\"\n",
            "1914 translation by H. Rackham\n",
            "\"But I must explain to you how all this mistaken idea of denouncing pleasure and praising pain was born and I will give you a complete account of the system, and expound the actual teachings of the great explorer of the truth, the master-builder of human happiness. No one rejects, dislikes, or avoids pleasure itself, because it is pleasure, but because those who do not know how to pursue pleasure rationally encounter consequences that are extremely painful. Nor again is there anyone who loves or pursues or desires to obtain pain of itself, because it is pain, but because occasionally circumstances occur in which toil and pain can procure him some great pleasure. To take a trivial example, which of us ever undertakes laborious physical exercise, except to obtain some advantage from it? But who has any right to find fault with a man who chooses to enjoy a pleasure that has no annoying consequences, or one who avoids a pain that produces no resultant pleasure?\"\n",
            "Section 1.10.33 of \"de Finibus Bonorum et Malorum\", written by Cicero in 45 BC\n",
            "\"At vero eos et accusamus et iusto odio dignissimos ducimus qui blanditiis praesentium voluptatum deleniti atque corrupti quos dolores et quas molestias excepturi sint occaecati cupiditate non provident, similique sunt in culpa qui officia deserunt mollitia animi, id est laborum et dolorum fuga. Et harum quidem rerum facilis est et expedita distinctio. Nam libero tempore, cum soluta nobis est eligendi optio cumque nihil impedit quo minus id quod maxime placeat facere possimus, omnis voluptas assumenda est, omnis dolor repellendus. Temporibus autem quibusdam et aut officiis debitis aut rerum necessitatibus saepe eveniet ut et voluptates repudiandae sint et molestiae non recusandae. Itaque earum rerum hic tenetur a sapiente delectus, ut aut reiciendis voluptatibus maiores alias consequatur aut perferendis doloribus asperiores repellat.\"\n",
            "1914 translation by H. Rackham\n",
            "\"On the other hand, we denounce with righteous indignation and dislike men who are so beguiled and demoralized by the charms of pleasure of the moment, so blinded by desire, that they cannot foresee the pain and trouble that are bound to ensue; and equal blame belongs to those who fail in their duty through weakness of will, which is the same as saying through shrinking from toil and pain. These cases are perfectly simple and easy to distinguish. In a free hour, when our power of choice is untrammelled and when nothing prevents our being able to do what we like best, every pleasure is to be welcomed and every pain avoided. But in certain circumstances and owing to the claims of duty or the obligations of business it will frequently occur that pleasures have to be repudiated and annoyances accepted. The wise man therefore always holds in these matters to this principle of selection: he rejects pleasures to secure other greater pleasures, or else he endures pains to avoid worse pains.\"\n",
            "\n",
            "\n",
            "\n",
            "\n",
            "\n",
            "\n",
            "help@lipsum.comPrivacy Policy\n",
            "·\n",
            "Do Not Sell My Personal Information\n",
            "·\n",
            "Change Consent\n",
            "\n",
            "\n",
            "\n",
            "\n",
            "\n",
            "\n",
            "\n",
            "\n",
            "  \n",
            "    freestar.config.enabled_slots.push({ placementName: \"lipsumcom_leaderboard_bottom\", slotId: \"lipsumcom_leaderboard_bottom\" });\n",
            "  \n",
            "\n",
            "\n",
            "\n",
            "\n",
            "\n",
            "\n",
            "\n"
          ]
        }
      ]
    },
    {
      "cell_type": "code",
      "source": [
        "#mw-content-container\n",
        "# Find all articles\n",
        "summaries = soup.find_all(\"h2\")\n",
        "summaries[0]"
      ],
      "metadata": {
        "colab": {
          "base_uri": "https://localhost:8080/"
        },
        "id": "lf20i4Vqv3-F",
        "outputId": "dd4e0e35-f8be-47f8-f80a-fbc444fa73eb"
      },
      "execution_count": 23,
      "outputs": [
        {
          "output_type": "execute_result",
          "data": {
            "text/plain": [
              "<h2>What is Lorem Ipsum?</h2>"
            ]
          },
          "metadata": {},
          "execution_count": 23
        }
      ]
    },
    {
      "cell_type": "code",
      "source": [
        "summaries[0].get_text().strip()"
      ],
      "metadata": {
        "colab": {
          "base_uri": "https://localhost:8080/",
          "height": 36
        },
        "id": "omvAHjAdv4CS",
        "outputId": "16179aa9-8a7b-41f5-e380-0c54a9c09a40"
      },
      "execution_count": 24,
      "outputs": [
        {
          "output_type": "execute_result",
          "data": {
            "text/plain": [
              "'What is Lorem Ipsum?'"
            ],
            "application/vnd.google.colaboratory.intrinsic+json": {
              "type": "string"
            }
          },
          "metadata": {},
          "execution_count": 24
        }
      ]
    },
    {
      "cell_type": "code",
      "source": [
        "text = summaries[0].get_text().strip()\n",
        "print(text)"
      ],
      "metadata": {
        "colab": {
          "base_uri": "https://localhost:8080/"
        },
        "id": "FJWEnMULv4FM",
        "outputId": "840c5c07-2d9f-4896-aca2-ae113b8f8bd9"
      },
      "execution_count": 25,
      "outputs": [
        {
          "output_type": "stream",
          "name": "stdout",
          "text": [
            "What is Lorem Ipsum?\n"
          ]
        }
      ]
    },
    {
      "cell_type": "code",
      "source": [
        "# Convert to lowercase\n",
        "text = text.lower()\n",
        "print(text)"
      ],
      "metadata": {
        "colab": {
          "base_uri": "https://localhost:8080/"
        },
        "id": "VDENHR8Vv4Hl",
        "outputId": "d83915a4-ea8d-429c-d46c-6ebdbe34a7c1"
      },
      "execution_count": 26,
      "outputs": [
        {
          "output_type": "stream",
          "name": "stdout",
          "text": [
            "what is lorem ipsum?\n"
          ]
        }
      ]
    },
    {
      "cell_type": "code",
      "source": [
        "import re\n",
        "\n",
        "# Remove punctuation characters\n",
        "text = re.sub(r\"[^a-zA-Z0-9]\", \" \", text)\n",
        "print(text)"
      ],
      "metadata": {
        "colab": {
          "base_uri": "https://localhost:8080/"
        },
        "id": "uf_5EWgev4J5",
        "outputId": "cf175741-dd94-4047-9a98-fb9cf9e779b9"
      },
      "execution_count": 27,
      "outputs": [
        {
          "output_type": "stream",
          "name": "stdout",
          "text": [
            "what is lorem ipsum \n"
          ]
        }
      ]
    },
    {
      "cell_type": "code",
      "source": [
        "# Split text into tokens (words)\n",
        "words = text.split()\n",
        "print(words)\n",
        ""
      ],
      "metadata": {
        "colab": {
          "base_uri": "https://localhost:8080/"
        },
        "id": "DICUJdkFv4MZ",
        "outputId": "b974e4ac-4d39-4cf2-efed-29acf5b6df06"
      },
      "execution_count": 28,
      "outputs": [
        {
          "output_type": "stream",
          "name": "stdout",
          "text": [
            "['what', 'is', 'lorem', 'ipsum']\n"
          ]
        }
      ]
    },
    {
      "cell_type": "code",
      "source": [
        "import os\n",
        "import nltk\n",
        "nltk.download('punkt')\n",
        "nltk.data.path.append(os.path.join(os.getcwd(), \"nltk_data\"))"
      ],
      "metadata": {
        "colab": {
          "base_uri": "https://localhost:8080/"
        },
        "id": "6ZeOR2xvv4Oi",
        "outputId": "cf726783-760d-44d7-f591-2c9a22065e77"
      },
      "execution_count": 29,
      "outputs": [
        {
          "output_type": "stream",
          "name": "stderr",
          "text": [
            "[nltk_data] Downloading package punkt to /root/nltk_data...\n",
            "[nltk_data]   Package punkt is already up-to-date!\n"
          ]
        }
      ]
    },
    {
      "cell_type": "code",
      "source": [
        "# Another sample text\n",
        "print(text)"
      ],
      "metadata": {
        "colab": {
          "base_uri": "https://localhost:8080/"
        },
        "id": "_2bIG0Gov4Q1",
        "outputId": "1a2f6421-c1e4-444d-fa14-33ce5c74d772"
      },
      "execution_count": 30,
      "outputs": [
        {
          "output_type": "stream",
          "name": "stdout",
          "text": [
            "what is lorem ipsum \n"
          ]
        }
      ]
    },
    {
      "cell_type": "code",
      "source": [
        "from nltk.tokenize import word_tokenize\n",
        "\n",
        "# Split text into words using NLTK\n",
        "words = word_tokenize(text)\n",
        "print(words)"
      ],
      "metadata": {
        "colab": {
          "base_uri": "https://localhost:8080/"
        },
        "id": "EfVUHZOKv4UT",
        "outputId": "93163f29-620a-4cfd-dad1-22bbdf7e5e21"
      },
      "execution_count": 31,
      "outputs": [
        {
          "output_type": "stream",
          "name": "stdout",
          "text": [
            "['what', 'is', 'lorem', 'ipsum']\n"
          ]
        }
      ]
    },
    {
      "cell_type": "code",
      "source": [
        "nltk.download('stopwords')\n",
        "# List stop words\n",
        "from nltk.corpus import stopwords\n",
        "print(stopwords.words(\"english\"))"
      ],
      "metadata": {
        "colab": {
          "base_uri": "https://localhost:8080/"
        },
        "id": "cbudZpK9wQcQ",
        "outputId": "5f479753-e309-4da3-b94c-4bfe13ceae73"
      },
      "execution_count": 32,
      "outputs": [
        {
          "output_type": "stream",
          "name": "stdout",
          "text": [
            "['i', 'me', 'my', 'myself', 'we', 'our', 'ours', 'ourselves', 'you', \"you're\", \"you've\", \"you'll\", \"you'd\", 'your', 'yours', 'yourself', 'yourselves', 'he', 'him', 'his', 'himself', 'she', \"she's\", 'her', 'hers', 'herself', 'it', \"it's\", 'its', 'itself', 'they', 'them', 'their', 'theirs', 'themselves', 'what', 'which', 'who', 'whom', 'this', 'that', \"that'll\", 'these', 'those', 'am', 'is', 'are', 'was', 'were', 'be', 'been', 'being', 'have', 'has', 'had', 'having', 'do', 'does', 'did', 'doing', 'a', 'an', 'the', 'and', 'but', 'if', 'or', 'because', 'as', 'until', 'while', 'of', 'at', 'by', 'for', 'with', 'about', 'against', 'between', 'into', 'through', 'during', 'before', 'after', 'above', 'below', 'to', 'from', 'up', 'down', 'in', 'out', 'on', 'off', 'over', 'under', 'again', 'further', 'then', 'once', 'here', 'there', 'when', 'where', 'why', 'how', 'all', 'any', 'both', 'each', 'few', 'more', 'most', 'other', 'some', 'such', 'no', 'nor', 'not', 'only', 'own', 'same', 'so', 'than', 'too', 'very', 's', 't', 'can', 'will', 'just', 'don', \"don't\", 'should', \"should've\", 'now', 'd', 'll', 'm', 'o', 're', 've', 'y', 'ain', 'aren', \"aren't\", 'couldn', \"couldn't\", 'didn', \"didn't\", 'doesn', \"doesn't\", 'hadn', \"hadn't\", 'hasn', \"hasn't\", 'haven', \"haven't\", 'isn', \"isn't\", 'ma', 'mightn', \"mightn't\", 'mustn', \"mustn't\", 'needn', \"needn't\", 'shan', \"shan't\", 'shouldn', \"shouldn't\", 'wasn', \"wasn't\", 'weren', \"weren't\", 'won', \"won't\", 'wouldn', \"wouldn't\"]\n"
          ]
        },
        {
          "output_type": "stream",
          "name": "stderr",
          "text": [
            "[nltk_data] Downloading package stopwords to /root/nltk_data...\n",
            "[nltk_data]   Package stopwords is already up-to-date!\n"
          ]
        }
      ]
    },
    {
      "cell_type": "code",
      "source": [
        "# Normalize it\n",
        "text = re.sub(r\"[^a-zA-Z0-9]\", \" \", text.lower())\n",
        "\n",
        "# Tokenize it\n",
        "words = text.split()\n",
        "print(words)"
      ],
      "metadata": {
        "colab": {
          "base_uri": "https://localhost:8080/"
        },
        "id": "G6jQJQSkwQe1",
        "outputId": "45d29c9a-dde1-485e-9848-9e988221858f"
      },
      "execution_count": 33,
      "outputs": [
        {
          "output_type": "stream",
          "name": "stdout",
          "text": [
            "['what', 'is', 'lorem', 'ipsum']\n"
          ]
        }
      ]
    },
    {
      "cell_type": "code",
      "source": [
        "\n",
        "# Remove stop words\n",
        "words = [w for w in words if w not in stopwords.words(\"english\")]\n",
        "print(words)"
      ],
      "metadata": {
        "colab": {
          "base_uri": "https://localhost:8080/"
        },
        "id": "8TCvktx8wQhb",
        "outputId": "63faf1dc-5929-475a-b3f6-cdf2d39bb80b"
      },
      "execution_count": 34,
      "outputs": [
        {
          "output_type": "stream",
          "name": "stdout",
          "text": [
            "['lorem', 'ipsum']\n"
          ]
        }
      ]
    },
    {
      "cell_type": "code",
      "source": [
        "import nltk\n",
        "\n",
        "# Define a custom grammar\n",
        "my_grammar = nltk.CFG.fromstring(\"\"\"\n",
        "S -> NP VP\n",
        "PP -> P NP\n",
        "NP -> Det N | Det N PP | 'I'\n",
        "VP -> V NP | VP PP\n",
        "Det -> 'an' | 'my'\n",
        "N -> 'elephant' | 'pajamas'\n",
        "V -> 'shot'\n",
        "P -> 'in'\n",
        "\"\"\")\n",
        "parser = nltk.ChartParser(my_grammar)\n",
        "\n",
        "# Parse a sentence\n",
        "sentence = word_tokenize(\"I shot an elephant in my pajamas\")\n",
        "for tree in parser.parse(sentence):\n",
        "    print(tree)\n",
        ""
      ],
      "metadata": {
        "colab": {
          "base_uri": "https://localhost:8080/"
        },
        "id": "SCc0-5vOwQjx",
        "outputId": "4425424f-ab6e-48ec-a570-9d40c7192299"
      },
      "execution_count": 35,
      "outputs": [
        {
          "output_type": "stream",
          "name": "stdout",
          "text": [
            "(S\n",
            "  (NP I)\n",
            "  (VP\n",
            "    (VP (V shot) (NP (Det an) (N elephant)))\n",
            "    (PP (P in) (NP (Det my) (N pajamas)))))\n",
            "(S\n",
            "  (NP I)\n",
            "  (VP\n",
            "    (V shot)\n",
            "    (NP (Det an) (N elephant) (PP (P in) (NP (Det my) (N pajamas))))))\n"
          ]
        }
      ]
    },
    {
      "cell_type": "code",
      "source": [
        "from nltk.stem.porter import PorterStemmer\n",
        "\n",
        "# Reduce words to their stems\n",
        "stemmed = [PorterStemmer().stem(w) for w in words]\n",
        "print(stemmed)"
      ],
      "metadata": {
        "colab": {
          "base_uri": "https://localhost:8080/"
        },
        "id": "Gxv5EX3CwQnS",
        "outputId": "6375c22b-9555-4997-c1ee-e965f530bf1e"
      },
      "execution_count": 36,
      "outputs": [
        {
          "output_type": "stream",
          "name": "stdout",
          "text": [
            "['lorem', 'ipsum']\n"
          ]
        }
      ]
    },
    {
      "cell_type": "code",
      "source": [
        "nltk.download('wordnet')\n",
        "\n",
        "from nltk.stem.wordnet import WordNetLemmatizer\n",
        "\n",
        "# Reduce words to their root form\n",
        "lemmed = [WordNetLemmatizer().lemmatize(w) for w in words]\n",
        "print(lemmed)"
      ],
      "metadata": {
        "colab": {
          "base_uri": "https://localhost:8080/"
        },
        "id": "rneIHWyuwQtn",
        "outputId": "bc720d36-ae54-454d-a4c2-62d9bc72a506"
      },
      "execution_count": 37,
      "outputs": [
        {
          "output_type": "stream",
          "name": "stdout",
          "text": [
            "['lorem', 'ipsum']\n"
          ]
        },
        {
          "output_type": "stream",
          "name": "stderr",
          "text": [
            "[nltk_data] Downloading package wordnet to /root/nltk_data...\n",
            "[nltk_data]   Package wordnet is already up-to-date!\n"
          ]
        }
      ]
    },
    {
      "cell_type": "code",
      "source": [
        "# Lemmatize verbs by specifying pos\n",
        "lemmed = [WordNetLemmatizer().lemmatize(w, pos='v') for w in lemmed]\n",
        "print(lemmed)"
      ],
      "metadata": {
        "colab": {
          "base_uri": "https://localhost:8080/"
        },
        "id": "znxv74QIwgRi",
        "outputId": "914084d9-11db-4b64-e187-7a7a3f1d473a"
      },
      "execution_count": 38,
      "outputs": [
        {
          "output_type": "stream",
          "name": "stdout",
          "text": [
            "['lorem', 'ipsum']\n"
          ]
        }
      ]
    }
  ]
}