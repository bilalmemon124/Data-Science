{
  "nbformat": 4,
  "nbformat_minor": 0,
  "metadata": {
    "colab": {
      "provenance": [],
      "authorship_tag": "ABX9TyOG/fngAx3SxNWR92X71eLm",
      "include_colab_link": true
    },
    "kernelspec": {
      "name": "python3",
      "display_name": "Python 3"
    },
    "language_info": {
      "name": "python"
    }
  },
  "cells": [
    {
      "cell_type": "markdown",
      "metadata": {
        "id": "view-in-github",
        "colab_type": "text"
      },
      "source": [
        "<a href=\"https://colab.research.google.com/github/bilalmemon124/Data-Science/blob/main/Lab2_20sw010.ipynb\" target=\"_parent\"><img src=\"https://colab.research.google.com/assets/colab-badge.svg\" alt=\"Open In Colab\"/></a>"
      ]
    },
    {
      "cell_type": "code",
      "execution_count": 14,
      "metadata": {
        "colab": {
          "base_uri": "https://localhost:8080/"
        },
        "id": "_POrrm6MNRUI",
        "outputId": "59b9878d-6f26-431d-8ef5-8cc206bba7dd"
      },
      "outputs": [
        {
          "output_type": "stream",
          "name": "stdout",
          "text": [
            "Congratulations you won a wafer-thin mint\n"
          ]
        }
      ],
      "source": [
        "#Task 1\n",
        "\n",
        "points = 174\n",
        "\n",
        "\n",
        "if points >=1 and  points <= 50:\n",
        "    result=\"Congratulations you won a Wooden Rabbit\"\n",
        "elif points >50 and points <= 150:\n",
        "    result=\"Oh dear, No prize this time\"\n",
        "elif points >150 and points <= 180:\n",
        "    result=\"Congratulations you won a wafer-thin mint\"\n",
        "elif points >180 and points <= 200:\n",
        "    Result=\"Congratulations you won a penguin\"\n",
        "else:\n",
        "    result=\"Incorrect Input\"\n",
        "\n",
        "print(result)\n",
        "\n"
      ]
    },
    {
      "cell_type": "code",
      "source": [
        "#Task 2\n",
        "\n",
        "answer = 70\n",
        "guess = 70\n",
        "\n",
        "if guess < answer:\n",
        "    result = \"Oops!  Your guess was too low.\"\n",
        "elif guess > answer:\n",
        "    result = \"Oops!  Your guess was too high.\"\n",
        "elif guess==answer:\n",
        "    result = \"Nice!  Your guess matched the answer!\"\n",
        "\n",
        "\n",
        "print(result)"
      ],
      "metadata": {
        "colab": {
          "base_uri": "https://localhost:8080/"
        },
        "id": "MmtkXonHngNA",
        "outputId": "5df20020-124d-42d2-bfe6-02e864d81d43"
      },
      "execution_count": 15,
      "outputs": [
        {
          "output_type": "stream",
          "name": "stdout",
          "text": [
            "Nice!  Your guess matched the answer!\n"
          ]
        }
      ]
    },
    {
      "cell_type": "code",
      "source": [
        "\n",
        "tax_rates = {\n",
        "    'CA': 0.075,\n",
        "    'MN': 0.095,\n",
        "    'NY': 0.089\n",
        "}\n",
        "\n",
        "purchase_amount = float(input(\"Enter the purchase amount: \"))\n",
        "state_code = input(\"Enter the state (CA, MN, or NY): \").upper()\n",
        "\n",
        "if state_code not in tax_rates:\n",
        "    print(\"Error: Invalid state.\")\n",
        "else:\n",
        "    tax_amount = purchase_amount * tax_rates[state_code]\n",
        "\n",
        "total_amount_after_tax = purchase_amount + tax_amount\n",
        "\n",
        "print(\"Total amount after tax:\", total_amount_after_tax)\n"
      ],
      "metadata": {
        "colab": {
          "base_uri": "https://localhost:8080/"
        },
        "id": "RVULPfg2o9LW",
        "outputId": "d1f73130-00b9-4d79-ab4d-2e6346093180"
      },
      "execution_count": 9,
      "outputs": [
        {
          "output_type": "stream",
          "name": "stdout",
          "text": [
            "Enter the purchase amount: 2000\n",
            "Enter the state (CA, MN, or NY): ca\n",
            "Total amount after tax: 2150.0\n"
          ]
        }
      ]
    },
    {
      "cell_type": "code",
      "source": [
        "# Task 4\n",
        "my_list = [\"the\",\"quick\",\"brown\",\"fox\",\"jumped\",\"over\",\"the\",\"lazy\",\"dog\"]\n",
        "for element in my_list:\n",
        "    print(element)\n"
      ],
      "metadata": {
        "colab": {
          "base_uri": "https://localhost:8080/"
        },
        "id": "d3CMLGvnqEXc",
        "outputId": "1bbf752a-f27e-4c3e-b66f-42185603ee1b"
      },
      "execution_count": 16,
      "outputs": [
        {
          "output_type": "stream",
          "name": "stdout",
          "text": [
            "the\n",
            "quick\n",
            "brown\n",
            "fox\n",
            "jumped\n",
            "over\n",
            "the\n",
            "lazy\n",
            "dog\n"
          ]
        }
      ]
    },
    {
      "cell_type": "code",
      "source": [
        "# Task 5\n",
        "for number in range(5, 31, 5):\n",
        "    print(number)\n"
      ],
      "metadata": {
        "colab": {
          "base_uri": "https://localhost:8080/"
        },
        "id": "0VEjREOxqviO",
        "outputId": "c1304edf-c704-43cc-8c9c-583079bf0441"
      },
      "execution_count": 18,
      "outputs": [
        {
          "output_type": "stream",
          "name": "stdout",
          "text": [
            "5\n",
            "10\n",
            "15\n",
            "20\n",
            "25\n",
            "30\n"
          ]
        }
      ]
    },
    {
      "cell_type": "code",
      "source": [
        "#Task 6\n",
        "names = [\"Rick Sanchez\", \"Morty Smith\", \"Summer Smith\", \"Jerry Smith\", \"Beth Smith\"]\n",
        "first_names=[name.split()[0] for name in names]\n",
        "print(first_names)\n"
      ],
      "metadata": {
        "colab": {
          "base_uri": "https://localhost:8080/"
        },
        "id": "ZrGyYuKXrBtk",
        "outputId": "6a83af91-216b-43de-c94d-154cb640189e"
      },
      "execution_count": 26,
      "outputs": [
        {
          "output_type": "stream",
          "name": "stdout",
          "text": [
            "['Rick', 'Morty', 'Summer', 'Jerry', 'Beth']\n"
          ]
        }
      ]
    },
    {
      "cell_type": "code",
      "source": [
        "#Task 7\n",
        "multiples_3 = [num*3 for num in range(1,21) ]\n",
        "print(multiples_3)"
      ],
      "metadata": {
        "colab": {
          "base_uri": "https://localhost:8080/"
        },
        "id": "ep-MZb30su9s",
        "outputId": "030b4eea-7aac-4d29-f2a1-67fcfb5358f4"
      },
      "execution_count": 27,
      "outputs": [
        {
          "output_type": "stream",
          "name": "stdout",
          "text": [
            "[3, 6, 9, 12, 15, 18, 21, 24, 27, 30, 33, 36, 39, 42, 45, 48, 51, 54, 57, 60]\n"
          ]
        }
      ]
    },
    {
      "cell_type": "code",
      "source": [
        "#Task 8\n",
        "scores = {\"Rick Sanchez\": 70,\n",
        "          \"Morty Smith\": 35,\n",
        "          \"Summer Smith\": 82,\n",
        "          \"Jerry Smith\": 23,\n",
        "          \"Beth Smith\": 98}\n",
        "passed = [Name for Name,score in scores.items() if score>= 65]\n",
        "print(passed)"
      ],
      "metadata": {
        "colab": {
          "base_uri": "https://localhost:8080/"
        },
        "id": "Z6i6UFAXtwm1",
        "outputId": "28277826-cbc0-4579-c4ce-2c30400d5ab0"
      },
      "execution_count": 57,
      "outputs": [
        {
          "output_type": "stream",
          "name": "stdout",
          "text": [
            "['Rick Sanchez', 'Summer Smith', 'Beth Smith']\n"
          ]
        }
      ]
    },
    {
      "cell_type": "code",
      "source": [
        "#Task 9\n",
        "cast_names = [\"Barney\", \"Robin\", \"Ted\", \"Lily\", \"Marshall\"]\n",
        "cast_heights = [72, 68, 72, 66, 76]\n",
        "cast = dict(zip(cast_names,cast_heights))\n",
        "print(cast)"
      ],
      "metadata": {
        "colab": {
          "base_uri": "https://localhost:8080/"
        },
        "id": "0Ffl_yEaxuOF",
        "outputId": "bba1ec32-16e5-48d0-f5cc-0180e8359949"
      },
      "execution_count": 51,
      "outputs": [
        {
          "output_type": "stream",
          "name": "stdout",
          "text": [
            "{'Barney': 72, 'Robin': 68, 'Ted': 72, 'Lily': 66, 'Marshall': 76}\n"
          ]
        }
      ]
    },
    {
      "cell_type": "code",
      "source": [
        "# Task 10\n",
        "cast_names = [\"Barney\", \"Robin\", \"Ted\", \"Lily\", \"Marshall\"]\n",
        "cast_heights = [72, 68, 72, 66, 76]\n",
        "cast = [name +\" \"+ str(height) for name, height in zip(cast_names, cast_heights)]\n",
        "\n",
        "print(cast)\n"
      ],
      "metadata": {
        "colab": {
          "base_uri": "https://localhost:8080/"
        },
        "id": "CKzHYPpIzL81",
        "outputId": "eb30b425-3d45-4725-f1bd-cb2af4e514ca"
      },
      "execution_count": 54,
      "outputs": [
        {
          "output_type": "stream",
          "name": "stdout",
          "text": [
            "['Barney 72', 'Robin 68', 'Ted 72', 'Lily 66', 'Marshall 76']\n"
          ]
        }
      ]
    },
    {
      "cell_type": "code",
      "source": [],
      "metadata": {
        "id": "CVmYd46azVV1"
      },
      "execution_count": null,
      "outputs": []
    }
  ]
}