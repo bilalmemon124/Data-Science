{
  "nbformat": 4,
  "nbformat_minor": 0,
  "metadata": {
    "colab": {
      "provenance": [],
      "authorship_tag": "ABX9TyN/vR1yrxxJRRWtmqfx3BBl",
      "include_colab_link": true
    },
    "kernelspec": {
      "name": "python3",
      "display_name": "Python 3"
    },
    "language_info": {
      "name": "python"
    }
  },
  "cells": [
    {
      "cell_type": "markdown",
      "metadata": {
        "id": "view-in-github",
        "colab_type": "text"
      },
      "source": [
        "<a href=\"https://colab.research.google.com/github/bilalmemon124/Data-Science/blob/main/Lab3_20sw010.ipynb\" target=\"_parent\"><img src=\"https://colab.research.google.com/assets/colab-badge.svg\" alt=\"Open In Colab\"/></a>"
      ]
    },
    {
      "cell_type": "code",
      "execution_count": 1,
      "metadata": {
        "colab": {
          "base_uri": "https://localhost:8080/"
        },
        "id": "frE0dCGgZdBA",
        "outputId": "749a5043-3bbb-41be-a2db-b703eab37493"
      },
      "outputs": [
        {
          "output_type": "stream",
          "name": "stdout",
          "text": [
            "expected result: 10, actual_result : 10.0 \n",
            "expected result: 7123.6902801, actual_result : 7123.690280065897 \n"
          ]
        }
      ],
      "source": [
        "# task no 1\n",
        "def population_density(population,land_area):\n",
        "    return population/land_area\n",
        "\n",
        "\n",
        "test1= population_density(10,1)\n",
        "expected_result1=10\n",
        "\n",
        "print(\"expected result: {}, actual_result : {} \".format(expected_result1,test1))\n",
        "\n",
        "\n",
        "test2=population_density(864816,121.4)\n",
        "expected_result2=7123.6902801\n",
        "\n",
        "print(\"expected result: {}, actual_result : {} \".format(expected_result2,test2))\n"
      ]
    },
    {
      "cell_type": "code",
      "source": [
        "#Task no 2\n",
        "\n",
        "def readable_timedelta(days):\n",
        "  weeks=int(days/7)\n",
        "  remaining_days=weeks*7\n",
        "  final_days=days-remaining_days\n",
        "\n",
        "  return (\"{} weeks and {} days \".format(weeks,final_days))\n",
        "\n",
        "\n",
        "print(readable_timedelta(10))"
      ],
      "metadata": {
        "colab": {
          "base_uri": "https://localhost:8080/"
        },
        "id": "3pr3MPQHZo-3",
        "outputId": "98fb328a-03de-4b95-d2e7-6d760143d4f4"
      },
      "execution_count": 2,
      "outputs": [
        {
          "output_type": "stream",
          "name": "stdout",
          "text": [
            "1 weeks and 3 days \n"
          ]
        }
      ]
    },
    {
      "cell_type": "code",
      "source": [
        "# Task no 3\n",
        "\n",
        "numbers =[[34,63,88,71,29],[90,78,51,27,45],[63,37,85,46,22],[51,22,34,11,18]]\n",
        "\n",
        "#orginal functions\n",
        "def mean(num_list):\n",
        "  return sum(num_list)/len(num_list)\n",
        "\n",
        "#lambda functions\n",
        "x = lambda num_list: sum(num_list)/len(num_list)\n",
        "averages = list(map(x,numbers))\n",
        "print(averages)"
      ],
      "metadata": {
        "colab": {
          "base_uri": "https://localhost:8080/"
        },
        "id": "AufiqLs-Ztma",
        "outputId": "198ca484-97bb-45ab-dfd0-6eb7b1b869e8"
      },
      "execution_count": 3,
      "outputs": [
        {
          "output_type": "stream",
          "name": "stdout",
          "text": [
            "[57.0, 58.2, 50.6, 27.2]\n"
          ]
        }
      ]
    },
    {
      "cell_type": "code",
      "source": [
        "cities = [\"New York City\", \"Los Angeles\", \"Chicago\", \"Mountain View\", \"Denver\", \"Boston\"]\n",
        "\n",
        "short_cities = list(filter(lambda name: len(name) < 10, cities))\n",
        "print(short_cities)\n",
        "\n"
      ],
      "metadata": {
        "colab": {
          "base_uri": "https://localhost:8080/"
        },
        "id": "mqTJRJXrZxnB",
        "outputId": "0d6e8ce3-cdf9-4e75-a7c3-9e5962645a14"
      },
      "execution_count": 12,
      "outputs": [
        {
          "output_type": "stream",
          "name": "stdout",
          "text": [
            "['Chicago', 'Denver', 'Boston']\n"
          ]
        }
      ]
    },
    {
      "cell_type": "code",
      "source": [
        "# Task no 5\n",
        "\n",
        "names =[]\n",
        "assignments =[]\n",
        "grades = []\n",
        "\n",
        "names=input(\"Enter names seperated by commnas:\")\n",
        "names=names.split(',')\n",
        "\n",
        "assignments = input(\"Enter assignments counts seprated by commas:\")\n",
        "assignments = assignments.split(',')\n",
        "grades=input(\"Enter grades seperated by commas :\")\n",
        "grades= grades.split(',')\n",
        "\n",
        "for i in range(len(names)):\n",
        "  potential_grade = int(grades[i]) + (2 * int(assignments[i]))\n",
        "  print(\"\\nHi {},\\n\\nThis is a reminder that you have {} assignments left to submit before you can graduate. You're current grade is {} and can increase to {} if you submit all assignments before the due date.\\n\\n\".format(names[i],assignments[i],grades[i],potential_grade))\n"
      ],
      "metadata": {
        "colab": {
          "base_uri": "https://localhost:8080/"
        },
        "id": "8uHeA5PDZ4Ny",
        "outputId": "04d5478c-38fe-47dd-dea6-6350ce86a18b"
      },
      "execution_count": 7,
      "outputs": [
        {
          "output_type": "stream",
          "name": "stdout",
          "text": [
            "Enter names seperated by commnas:bilal,us\n",
            "Enter assignments counts seprated by commas:1,2\n",
            "Enter grades seperated by commas :10,01\n",
            "\n",
            "Hi bilal,\n",
            "\n",
            "This is a reminder that you have 1 assignments left to submit before you can graduate. You're current grade is 10 and can increase to 12 if you submit all assignments before the due date.\n",
            "\n",
            "\n",
            "\n",
            "Hi us,\n",
            "\n",
            "This is a reminder that you have 2 assignments left to submit before you can graduate. You're current grade is 01 and can increase to 5 if you submit all assignments before the due date.\n",
            "\n",
            "\n"
          ]
        }
      ]
    },
    {
      "cell_type": "code",
      "source": [
        "camlot_lines = []\n",
        "\n",
        "try:\n",
        "    with open(\"camlot.txt\") as f:\n",
        "        for line in f:\n",
        "            camlot_lines.append(line.strip())\n",
        "except FileNotFoundError:\n",
        "    print(\"Error: 'camlot.txt' not found.\")\n",
        "    exit(1)\n",
        "\n",
        "print(camlot_lines)\n"
      ],
      "metadata": {
        "colab": {
          "base_uri": "https://localhost:8080/"
        },
        "id": "FaTl0JnEaLnv",
        "outputId": "bec5518c-9848-4859-ab82-efd4810f4613"
      },
      "execution_count": 13,
      "outputs": [
        {
          "output_type": "stream",
          "name": "stdout",
          "text": [
            "Error: 'camlot.txt' not found.\n",
            "[]\n"
          ]
        }
      ]
    },
    {
      "cell_type": "code",
      "source": [
        "def create_cast_list(filename):\n",
        "    cast_list = []\n",
        "    try:\n",
        "        with open(filename) as f:\n",
        "            for line in f:\n",
        "                cast_list.append(line.strip().split(',')[0])\n",
        "    except FileNotFoundError:\n",
        "        print(f\"Error: File '{filename}' not found.\")\n",
        "\n",
        "        return []\n",
        "\n",
        "    return cast_list\n",
        "\n",
        "cast_list = create_cast_list('flying_circus_cast.txt')\n",
        "\n",
        "for actor in cast_list:\n",
        "    print(actor)\n"
      ],
      "metadata": {
        "colab": {
          "base_uri": "https://localhost:8080/"
        },
        "id": "AVw98XciaNoP",
        "outputId": "41e52a89-c2f9-4493-aeb8-371475f56709"
      },
      "execution_count": 14,
      "outputs": [
        {
          "output_type": "stream",
          "name": "stdout",
          "text": [
            "Error: File 'flying_circus_cast.txt' not found.\n"
          ]
        }
      ]
    }
  ]
}