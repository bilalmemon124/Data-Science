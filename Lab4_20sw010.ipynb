{
  "nbformat": 4,
  "nbformat_minor": 0,
  "metadata": {
    "colab": {
      "provenance": [],
      "authorship_tag": "ABX9TyPrlO2vVWQVjgENP/dg5uwO",
      "include_colab_link": true
    },
    "kernelspec": {
      "name": "python3",
      "display_name": "Python 3"
    },
    "language_info": {
      "name": "python"
    }
  },
  "cells": [
    {
      "cell_type": "markdown",
      "metadata": {
        "id": "view-in-github",
        "colab_type": "text"
      },
      "source": [
        "<a href=\"https://colab.research.google.com/github/bilalmemon124/Data-Science/blob/main/Lab4_20sw010.ipynb\" target=\"_parent\"><img src=\"https://colab.research.google.com/assets/colab-badge.svg\" alt=\"Open In Colab\"/></a>"
      ]
    },
    {
      "cell_type": "code",
      "execution_count": null,
      "metadata": {
        "colab": {
          "base_uri": "https://localhost:8080/"
        },
        "id": "AsU93vySTi60",
        "outputId": "cb73d90b-3f56-4637-f392-feedfc509012"
      },
      "outputs": [
        {
          "output_type": "stream",
          "name": "stdout",
          "text": [
            "[[ 2  4  6  8]\n",
            " [10 12 14 16]\n",
            " [18 20 22 24]\n",
            " [26 28 30 32]]\n"
          ]
        }
      ],
      "source": [
        "#Task 1\n",
        "import numpy as np\n",
        "\n",
        "X = np.arange(2, 33, 2).reshape(4, 4)\n",
        "print(X)\n"
      ]
    },
    {
      "cell_type": "code",
      "source": [
        "#Task 2\n",
        "import numpy as np\n",
        "\n",
        "X = np.arange(1, 26).reshape(5, 5)\n",
        "odd_numbers = X[X % 2 != 0]\n",
        "\n",
        "print(\"Original 5x5 ndarray:\")\n",
        "print(X)\n",
        "\n",
        "print(\"\\nOdd numbers using Boolean indexing:\")\n",
        "print(odd_numbers)\n"
      ],
      "metadata": {
        "colab": {
          "base_uri": "https://localhost:8080/"
        },
        "id": "D3lLEAcJT5q6",
        "outputId": "4ca4f9bb-dd60-47ca-c599-9c983a74792b"
      },
      "execution_count": null,
      "outputs": [
        {
          "output_type": "stream",
          "name": "stdout",
          "text": [
            "Original 5x5 ndarray:\n",
            "[[ 1  2  3  4  5]\n",
            " [ 6  7  8  9 10]\n",
            " [11 12 13 14 15]\n",
            " [16 17 18 19 20]\n",
            " [21 22 23 24 25]]\n",
            "\n",
            "Odd numbers using Boolean indexing:\n",
            "[ 1  3  5  7  9 11 13 15 17 19 21 23 25]\n"
          ]
        }
      ]
    },
    {
      "cell_type": "code",
      "source": [
        "#Task 3\n",
        "import numpy as np\n",
        "\n",
        "X = np.arange(1, 5)[:, np.newaxis] * np.ones((4, 4))\n",
        "print(X)\n"
      ],
      "metadata": {
        "colab": {
          "base_uri": "https://localhost:8080/"
        },
        "id": "GzVNz0t6UY6K",
        "outputId": "9d944b71-1801-49eb-c713-6e29af3a529a"
      },
      "execution_count": null,
      "outputs": [
        {
          "output_type": "stream",
          "name": "stdout",
          "text": [
            "[[1. 1. 1. 1.]\n",
            " [2. 2. 2. 2.]\n",
            " [3. 3. 3. 3.]\n",
            " [4. 4. 4. 4.]]\n"
          ]
        }
      ]
    },
    {
      "cell_type": "code",
      "source": [
        "#Task 4\n",
        "import numpy as np\n",
        "\n",
        "X = np.random.randint(0, 5001, size=(1000, 20))\n",
        "print(X.shape)\n",
        "\n",
        "ave_cols = np.mean(X, axis=0)\n",
        "std_cols = np.std(X, axis=0)\n",
        "\n",
        "print(\"Average of values in each column:\", ave_cols)\n",
        "print(\"Standard Deviation of values in each column:\", std_cols)\n",
        "\n",
        "ave_cols = np.mean(X, axis=0)\n",
        "std_cols = np.std(X, axis=0)\n",
        "\n",
        "print(\"Shape of ave_cols:\", ave_cols.shape)\n",
        "print(\"Shape of std_cols:\", std_cols.shape)\n",
        "\n",
        "X_norm = (X - np.mean(X, axis=0)) / np.std(X, axis=0)\n",
        "\n",
        "ave_X_norm = np.mean(X_norm)\n",
        "print(\"Average of all values in X_norm:\", ave_X_norm)\n",
        "\n",
        "ave_min_X_norm = np.mean(np.min(X_norm, axis=0))\n",
        "print(\"Average of minimum value in each column of X_norm:\", ave_min_X_norm)\n",
        "\n",
        "ave_max_X_norm = np.mean(np.max(X_norm, axis=0))\n",
        "print(\"Average of maximum value in each column of X_norm:\", ave_max_X_norm)\n",
        "\n",
        "permuted_indices = np.random.permutation(5)\n",
        "row_indices = np.random.permutation(X_norm.shape[0])\n",
        "X_norm_shuffled = X_norm[row_indices]\n",
        "\n",
        "\n",
        "num_examples = X_norm.shape[0]\n",
        "num_train = int(0.7 * num_examples)   # 70% for training\n",
        "num_crossVal = int(0.15 * num_examples)   # 15% for cross-validation\n",
        "num_test = num_examples - num_train - num_crossVal   # Remaining 15% for testing\n",
        "\n",
        "\n",
        "X_train = X_norm_shuffled[:num_train]\n",
        "X_crossVal = X_norm_shuffled[num_train:num_train + num_crossVal]\n",
        "X_test = X_norm_shuffled[num_train + num_crossVal:]\n",
        "\n",
        "print(\"Shape of X_train:\", X_train.shape)\n",
        "print(\"Shape of X_crossVal:\", X_crossVal.shape)\n",
        "print(\"Shape of X_test:\", X_test.shape)"
      ],
      "metadata": {
        "id": "tyE9yov9U-1H",
        "colab": {
          "base_uri": "https://localhost:8080/"
        },
        "outputId": "0b14f797-4233-4f02-e4fa-f5620367c09a"
      },
      "execution_count": 4,
      "outputs": [
        {
          "output_type": "stream",
          "name": "stdout",
          "text": [
            "(1000, 20)\n",
            "Average of values in each column: [2491.196 2556.469 2485.83  2438.966 2441.244 2423.933 2517.041 2465.004\n",
            " 2595.467 2431.867 2462.079 2454.012 2452.953 2487.503 2540.831 2571.125\n",
            " 2466.434 2540.89  2448.644 2465.089]\n",
            "Standard Deviation of values in each column: [1453.38843176 1450.94141475 1403.0756377  1445.77977121 1443.19364205\n",
            " 1458.29523709 1440.72079298 1500.15361013 1446.176493   1430.07899688\n",
            " 1430.6349544  1490.22752956 1436.3631939  1447.40716455 1426.93053175\n",
            " 1442.80576149 1437.99863618 1413.82298535 1471.00347153 1473.19600905]\n",
            "Shape of ave_cols: (20,)\n",
            "Shape of std_cols: (20,)\n",
            "Average of all values in X_norm: -2.2737367544323207e-17\n",
            "Average of minimum value in each column of X_norm: -1.7145629445232238\n",
            "Average of maximum value in each column of X_norm: 1.7345900627907955\n",
            "Shape of X_train: (700, 20)\n",
            "Shape of X_crossVal: (150, 20)\n",
            "Shape of X_test: (150, 20)\n"
          ]
        }
      ]
    }
  ]
}