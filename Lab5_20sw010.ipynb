{
  "nbformat": 4,
  "nbformat_minor": 0,
  "metadata": {
    "colab": {
      "provenance": [],
      "authorship_tag": "ABX9TyO4AS0aVa2nTjvbC7govwVh",
      "include_colab_link": true
    },
    "kernelspec": {
      "name": "python3",
      "display_name": "Python 3"
    },
    "language_info": {
      "name": "python"
    }
  },
  "cells": [
    {
      "cell_type": "markdown",
      "metadata": {
        "id": "view-in-github",
        "colab_type": "text"
      },
      "source": [
        "<a href=\"https://colab.research.google.com/github/bilalmemon124/Data-Science/blob/main/Lab5_20sw010.ipynb\" target=\"_parent\"><img src=\"https://colab.research.google.com/assets/colab-badge.svg\" alt=\"Open In Colab\"/></a>"
      ]
    },
    {
      "cell_type": "code",
      "execution_count": 6,
      "metadata": {
        "colab": {
          "base_uri": "https://localhost:8080/"
        },
        "id": "Y_3m-fyo8-b2",
        "outputId": "fb401807-7c30-4a89-f73e-4bed5cff26b7"
      },
      "outputs": [
        {
          "output_type": "stream",
          "name": "stdout",
          "text": [
            "Time for sunlight to reach each planet (minutes):\n",
            " Earth       8.311111\n",
            "Saturn     79.638889\n",
            "Mars       12.661111\n",
            "Venus       6.011111\n",
            "Jupiter    43.255556\n",
            "dtype: float64\n",
            "\n",
            "Planets where sunlight takes less than 40 minutes to reach:\n",
            " Earth     8.311111\n",
            "Mars     12.661111\n",
            "Venus     6.011111\n",
            "dtype: float64\n"
          ]
        }
      ],
      "source": [
        "import pandas as pd\n",
        "\n",
        "# Create a Pandas Series that contains the distance of some planets from the Sun.\n",
        "# Use the name of the planets as the index to your Pandas Series, and the distance\n",
        "# from the Sun as your data. The distance from the Sun is in units of 10^6 km.\n",
        "\n",
        "distance_from_sun = [149.6, 1433.5, 227.9, 108.2, 778.6]\n",
        "planets = ['Earth', 'Saturn', 'Mars', 'Venus', 'Jupiter']\n",
        "\n",
        "dist_planets = pd.Series(data=distance_from_sun, index=planets)\n",
        "\n",
        "# Calculate the number of minutes it takes sunlight to reach each planet.\n",
        "# You can do this by dividing the distance from the Sun for each planet by the speed of light.\n",
        "# Since in the data above the distance from the Sun is in units of 10^6 km,\n",
        "# you can use a value for the speed of light of c = 18, since light travels 18 x 10^6 km/minute.\n",
        "\n",
        "speed_of_light = 18  # 10^6 km/minute\n",
        "time_light = dist_planets / speed_of_light\n",
        "\n",
        "# Use Boolean indexing to select only those planets for which sunlight takes less\n",
        "# than 40 minutes to reach them.\n",
        "\n",
        "close_planets = time_light[time_light < 40]\n",
        "\n",
        "# Print the resulting Pandas Series and the planets for which sunlight takes less than 40 minutes.\n",
        "print(\"Time for sunlight to reach each planet (minutes):\\n\", time_light)\n",
        "print(\"\\nPlanets where sunlight takes less than 40 minutes to reach:\\n\", close_planets)\n"
      ]
    },
    {
      "cell_type": "code",
      "source": [
        "import pandas as pd\n",
        "import numpy as np\n",
        "\n",
        "# Create a Pandas DataFrame that contains the ratings some users have given to a\n",
        "# series of books. The ratings given are in the range from 1 to 5, with 5 being\n",
        "# the best score. The names of the books, the authors, and the ratings of each user\n",
        "# are given below:\n",
        "\n",
        "books = pd.Series(data=['Great Expectations', 'Of Mice and Men', 'Romeo and Juliet', 'The Time Machine', 'Alice in Wonderland'])\n",
        "authors = pd.Series(data=['Charles Dickens', 'John Steinbeck', 'William Shakespeare', 'H. G. Wells', 'Lewis Carroll'])\n",
        "user_1 = pd.Series(data=[3.2, np.nan, 2.5])\n",
        "user_2 = pd.Series(data=[5.0, 1.3, 4.0, 3.8])\n",
        "user_3 = pd.Series(data=[2.0, 2.3, np.nan, 4])\n",
        "user_4 = pd.Series(data=[4, 3.5, 4, 5, 4.2])\n",
        "\n",
        "# Create a dictionary with the data given above\n",
        "dat = {\n",
        "    'Author': authors,\n",
        "    'Book Title': books,\n",
        "    'User 1': user_1,\n",
        "    'User 2': user_2,\n",
        "    'User 3': user_3,\n",
        "    'User 4': user_4\n",
        "}\n",
        "\n",
        "# Use the dictionary to create a Pandas DataFrame\n",
        "book_ratings = pd.DataFrame(dat)\n",
        "\n",
        "# Now replace all the NaN values in your DataFrame with the average rating in each column,\n",
        "# except for 'Book Title' and 'Author' columns.\n",
        "user_columns = ['User 1', 'User 2', 'User 3', 'User 4']\n",
        "book_ratings[user_columns] = book_ratings[user_columns].fillna(book_ratings[user_columns].mean())\n",
        "\n",
        "# Print the resulting DataFrame\n",
        "print(book_ratings)\n",
        "\n",
        "# Find books that had a rating of 5 from any user\n",
        "best_rated = book_ratings[book_ratings[user_columns].eq(5).any(axis=1)]['Book Title'].values\n",
        "print(\"Books with a rating of 5 from any user:\", best_rated)\n"
      ],
      "metadata": {
        "colab": {
          "base_uri": "https://localhost:8080/"
        },
        "id": "cJKJeSqc9eEr",
        "outputId": "bc8c3b29-75cb-4a4e-b305-d3f8a229c4ed"
      },
      "execution_count": 8,
      "outputs": [
        {
          "output_type": "stream",
          "name": "stdout",
          "text": [
            "                Author           Book Title  User 1  User 2    User 3  User 4\n",
            "0      Charles Dickens   Great Expectations    3.20   5.000  2.000000     4.0\n",
            "1       John Steinbeck      Of Mice and Men    2.85   1.300  2.300000     3.5\n",
            "2  William Shakespeare     Romeo and Juliet    2.50   4.000  2.766667     4.0\n",
            "3          H. G. Wells     The Time Machine    2.85   3.800  4.000000     5.0\n",
            "4        Lewis Carroll  Alice in Wonderland    2.85   3.525  2.766667     4.2\n",
            "Books with a rating of 5 from any user: ['Great Expectations' 'The Time Machine']\n"
          ]
        }
      ]
    }
  ]
}